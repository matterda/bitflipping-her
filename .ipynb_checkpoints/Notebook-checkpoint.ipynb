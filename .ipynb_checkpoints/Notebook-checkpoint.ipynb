{
 "cells": [
  {
   "cell_type": "markdown",
   "id": "d502bec7-646b-4ead-873f-ac9657e91087",
   "metadata": {},
   "source": [
    "# Bit-flipping with(out) Hindsight Experience Replay"
   ]
  },
  {
   "cell_type": "code",
   "execution_count": 1,
   "id": "b86449e3-4ad1-4c3c-bace-7e4ab43ad228",
   "metadata": {},
   "outputs": [],
   "source": [
    "import numpy as np\n",
    "import matplotlib.pyplot as plt\n",
    "import tqdm\n",
    "\n",
    "from src import models, envs, utils, config"
   ]
  },
  {
   "cell_type": "code",
   "execution_count": 2,
   "id": "794c0163-de28-4ba1-9e5e-646aec452054",
   "metadata": {},
   "outputs": [],
   "source": [
    "def train(use_her, N):\n",
    "    env = envs.BitFlipEnv(N)\n",
    "    model = models.DQN(env, N, use_her)\n",
    "    start_obs, done = env.reset()\n",
    "    \n",
    "    for e in range(config.epochs):\n",
    "        model.episode()\n",
    "    dist = np.asarray(model.logger.get_log('final_dist'))\n",
    "    done = (dist == 0)\n",
    "    wind_size = 50\n",
    "    succ_rate = done.reshape(-1, wind_size).sum(1)/wind_size\n",
    "    return model, dist, {'x': np.arange(config.epochs/wind_size)*wind_size, 'y': succ_rate}"
   ]
  },
  {
   "cell_type": "code",
   "execution_count": null,
   "id": "fdafba38-cb4e-4f9e-84d9-2b3729811002",
   "metadata": {},
   "outputs": [],
   "source": [
    "avg_succ_rate = {'DQN': [], 'DQN_HER': []}\n",
    "\n",
    "bit_range = list(range(2,26))\n",
    "pbar = tqdm.tqdm(bit_range)\n",
    "\n",
    "for N in pbar:\n",
    "    # train DQN model without HER\n",
    "    _, _, succ_rate_no_her = train(False, N)\n",
    "    avg_succ_rate['DQN'].append(succ_rate_no_her)\n",
    "    \n",
    "    # train DQN model with HER\n",
    "    _, _, succ_rate_her = train(True, N)\n",
    "    avg_succ_rate['DQN_HER'].append(succ_rate_her)\n",
    "    \n",
    "    pbar.set_description(f'{N} bits. last succ rate - DQN: {succ_rate_no_her[\"y\"][-1]:.2f}, DQN+HER: {succ_rate_her[\"y\"][-1]:.2f}')"
   ]
  },
  {
   "cell_type": "code",
   "execution_count": null,
   "id": "1960df9d-9016-48d5-aded-480005decf88",
   "metadata": {},
   "outputs": [],
   "source": [
    "y = {'DQN': [], 'DQN_HER': []}\n",
    "for n in bit_range:\n",
    "    y['DQN'].append(max(avg_succ_rate['DQN'][n]['y']))\n",
    "    y['DQN_HER'].append(max(avg_succ_rate['DQN_HER'][n]['y']))\n",
    "\n",
    "\n",
    "plt.plot(bit_range,y['DQN_HER'], 'bo-', alpha=0.5, label = \"DQN+HER\")\n",
    "plt.plot(bit_range,y['DQN'], 'ro--', alpha=0.5, label='DQN')\n",
    "\n",
    "plt.legend()\n",
    "plt.xticks(bit_range[::2])\n",
    "plt.xlabel('Number of bits $n$')\n",
    "plt.ylabel('Success rate')\n",
    "plt.title('Bit-flipping performance')\n",
    "plt.savefig('plot.png')\n",
    "plt.show()"
   ]
  }
 ],
 "metadata": {
  "kernelspec": {
   "display_name": "Python 3 (ipykernel)",
   "language": "python",
   "name": "python3"
  },
  "language_info": {
   "codemirror_mode": {
    "name": "ipython",
    "version": 3
   },
   "file_extension": ".py",
   "mimetype": "text/x-python",
   "name": "python",
   "nbconvert_exporter": "python",
   "pygments_lexer": "ipython3",
   "version": "3.9.7"
  }
 },
 "nbformat": 4,
 "nbformat_minor": 5
}
